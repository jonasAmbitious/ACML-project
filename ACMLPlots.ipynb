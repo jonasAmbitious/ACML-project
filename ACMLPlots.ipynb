{
 "cells": [
  {
   "cell_type": "code",
   "execution_count": 20,
   "metadata": {},
   "outputs": [],
   "source": [
    "import matplotlib.pyplot as plt"
   ]
  },
  {
   "cell_type": "code",
   "execution_count": 54,
   "metadata": {},
   "outputs": [],
   "source": [
    "tanhAdadeltanhAdadleta = [\n",
    "'469/469 [==============================] - 17s 37ms/step - loss: 2.3181 - accuracy: 0.1084 - val_loss: 2.2615 - val_accuracy: 0.1233',\n",
    "'469/469 [==============================] - 17s 37ms/step - loss: 2.2515 - accuracy: 0.1526 - val_loss: 2.1974 - val_accuracy: 0.2488',\n",
    "'469/469 [==============================] - 17s 37ms/step - loss: 2.1885 - accuracy: 0.2219 - val_loss: 2.1327 - val_accuracy: 0.4576',\n",
    "'469/469 [==============================] - 19s 40ms/step - loss: 2.1252 - accuracy: 0.3010 - val_loss: 2.0650 - val_accuracy: 0.5953',\n",
    "'469/469 [==============================] - 19s 41ms/step - loss: 2.0573 - accuracy: 0.3835 - val_loss: 1.9927 - val_accuracy: 0.6639',\n",
    "'469/469 [==============================] - 19s 41ms/step - loss: 1.9891 - accuracy: 0.4433 - val_loss: 1.9158 - val_accuracy: 0.7019',\n",
    "'469/469 [==============================] - 19s 41ms/step - loss: 1.9144 - accuracy: 0.4993 - val_loss: 1.8338 - val_accuracy: 0.7293',\n",
    "'469/469 [==============================] - 19s 41ms/step - loss: 1.8371 - accuracy: 0.5408 - val_loss: 1.7479 - val_accuracy: 0.7442',\n",
    "'469/469 [==============================] - 19s 41ms/step - loss: 1.7553 - accuracy: 0.5759 - val_loss: 1.6594 - val_accuracy: 0.7576',\n",
    "'469/469 [==============================] - 19s 41ms/step - loss: 1.6764 - accuracy: 0.6009 - val_loss: 1.5702 - val_accuracy: 0.7680',\n",
    "'469/469 [==============================] - 20s 42ms/step - loss: 1.5963 - accuracy: 0.6231 - val_loss: 1.4818 - val_accuracy: 0.7744',\n",
    "'469/469 [==============================] - 20s 42ms/step - loss: 1.5198 - accuracy: 0.6415 - val_loss: 1.3960 - val_accuracy: 0.7853',\n",
    "'469/469 [==============================] - 21s 44ms/step - loss: 1.4454 - accuracy: 0.6577 - val_loss: 1.3146 - val_accuracy: 0.7944',\n",
    "'469/469 [==============================] - 20s 43ms/step - loss: 1.3764 - accuracy: 0.6717 - val_loss: 1.2384 - val_accuracy: 0.8018',\n",
    "'469/469 [==============================] - 20s 43ms/step - loss: 1.3090 - accuracy: 0.6854 - val_loss: 1.1680 - val_accuracy: 0.8083',\n",
    "'469/469 [==============================] - 20s 43ms/step - loss: 1.2499 - accuracy: 0.6963 - val_loss: 1.1031 - val_accuracy: 0.8173',\n",
    "'469/469 [==============================] - 20s 43ms/step - loss: 1.1938 - accuracy: 0.7070 - val_loss: 1.0440 - val_accuracy: 0.8244',\n",
    "'469/469 [==============================] - 20s 43ms/step - loss: 1.1461 - accuracy: 0.7177 - val_loss: 0.9900 - val_accuracy: 0.8312',\n",
    "'469/469 [==============================] - 22s 47ms/step - loss: 1.0991 - accuracy: 0.7262 - val_loss: 0.9410 - val_accuracy: 0.8369',\n",
    "'469/469 [==============================] - 21s 46ms/step - loss: 1.0596 - accuracy: 0.7337 - val_loss: 0.8967 - val_accuracy: 0.8409',\n",
    "'469/469 [==============================] - 21s 44ms/step - loss: 1.0198 - accuracy: 0.7412 - val_loss: 0.8564 - val_accuracy: 0.8465',\n",
    "'469/469 [==============================] - 20s 43ms/step - loss: 0.9877 - accuracy: 0.7472 - val_loss: 0.8196 - val_accuracy: 0.8514',\n",
    "'469/469 [==============================] - 21s 44ms/step - loss: 0.9564 - accuracy: 0.7542 - val_loss: 0.7864 - val_accuracy: 0.8555',\n",
    "'469/469 [==============================] - 20s 43ms/step - loss: 0.8708 - accuracy: 0.7743 - val_loss: 0.7022 - val_accuracy: 0.8668',\n",
    "'469/469 [==============================] - 20s 43ms/step - loss: 0.8488 - accuracy: 0.7792 - val_loss: 0.6784 - val_accuracy: 0.8706',\n",
    "'469/469 [==============================] - 20s 43ms/step - loss: 0.8293 - accuracy: 0.7827 - val_loss: 0.6567 - val_accuracy: 0.8735',\n",
    "'469/469 [==============================] - 20s 43ms/step - loss: 0.8067 - accuracy: 0.7908 - val_loss: 0.6364 - val_accuracy: 0.8758',\n",
    "'469/469 [==============================] - 21s 44ms/step - loss: 0.7928 - accuracy: 0.7906 - val_loss: 0.6178 - val_accuracy: 0.8787',\n",
    "'469/469 [==============================] - 22s 47ms/step - loss: 0.7689 - accuracy: 0.7989 - val_loss: 0.6002 - val_accuracy: 0.8811',\n",
    "'469/469 [==============================] - 21s 44ms/step - loss: 0.7273 - accuracy: 0.8070 - val_loss: 0.5544 - val_accuracy: 0.8866',\n",
    "'469/469 [==============================] - 21s 46ms/step - loss: 0.7116 - accuracy: 0.8119 - val_loss: 0.5411 - val_accuracy: 0.8891',\n",
    "'469/469 [==============================] - 21s 45ms/step - loss: 0.7004 - accuracy: 0.8149 - val_loss: 0.5283 - val_accuracy: 0.8904',\n",
    "'469/469 [==============================] - 21s 45ms/step - loss: 0.6886 - accuracy: 0.8169 - val_loss: 0.5164 - val_accuracy: 0.8922',\n",
    "'469/469 [==============================] - 20s 43ms/step - loss: 0.6726 - accuracy: 0.8224 - val_loss: 0.5052 - val_accuracy: 0.8941',\n",
    "'469/469 [==============================] - 21s 45ms/step - loss: 0.6646 - accuracy: 0.8227 - val_loss: 0.4943 - val_accuracy: 0.8957',\n",
    "'469/469 [==============================] - 21s 45ms/step - loss: 0.6500 - accuracy: 0.8266 - val_loss: 0.4842 - val_accuracy: 0.8976',\n",
    "'469/469 [==============================] - 21s 45ms/step - loss: 0.6425 - accuracy: 0.8302 - val_loss: 0.4745 - val_accuracy: 0.8985',\n",
    "'469/469 [==============================] - 21s 44ms/step - loss: 0.6329 - accuracy: 0.8339 - val_loss: 0.4653 - val_accuracy: 0.9000',\n",
    "'469/469 [==============================] - 21s 45ms/step - loss: 0.6228 - accuracy: 0.8350 - val_loss: 0.4566 - val_accuracy: 0.9007',\n",
    "'469/469 [==============================] - 21s 45ms/step - loss: 0.6115 - accuracy: 0.8381 - val_loss: 0.4479 - val_accuracy: 0.9022',\n",
    "'469/469 [==============================] - 22s 47ms/step - loss: 0.6029 - accuracy: 0.8387 - val_loss: 0.4399 - val_accuracy: 0.9031',\n",
    "'469/469 [==============================] - 22s 47ms/step - loss: 0.5954 - accuracy: 0.8403 - val_loss: 0.4321 - val_accuracy: 0.9040',\n",
    "'469/469 [==============================] - 21s 45ms/step - loss: 0.5871 - accuracy: 0.8439 - val_loss: 0.4247 - val_accuracy: 0.9048',\n",
    "'469/469 [==============================] - 21s 45ms/step - loss: 0.5818 - accuracy: 0.8453 - val_loss: 0.4177 - val_accuracy: 0.9058',\n",
    "'469/469 [==============================] - 21s 45ms/step - loss: 0.5725 - accuracy: 0.8490 - val_loss: 0.4108 - val_accuracy: 0.9071',\n",
    "'469/469 [==============================] - 21s 45ms/step - loss: 0.5630 - accuracy: 0.8508 - val_loss: 0.4043 - val_accuracy: 0.9074',\n",
    "'469/469 [==============================] - 21s 44ms/step - loss: 0.5560 - accuracy: 0.8542 - val_loss: 0.3979 - val_accuracy: 0.9089',\n",
    "'469/469 [==============================] - 21s 45ms/step - loss: 0.5489 - accuracy: 0.8538 - val_loss: 0.3919 - val_accuracy: 0.9107',\n",
    "'469/469 [==============================] - 21s 44ms/step - loss: 0.5428 - accuracy: 0.8556 - val_loss: 0.3859 - val_accuracy: 0.9116',\n",
    "'469/469 [==============================] - 21s 44ms/step - loss: 0.5350 - accuracy: 0.8582 - val_loss: 0.3805 - val_accuracy: 0.9125',\n",
    "'469/469 [==============================] - 21s 45ms/step - loss: 0.5327 - accuracy: 0.8562 - val_loss: 0.3750 - val_accuracy: 0.9140',\n",
    "'469/469 [==============================] - 21s 45ms/step - loss: 0.5233 - accuracy: 0.8604 - val_loss: 0.3697 - val_accuracy: 0.9147',\n",
    "'469/469 [==============================] - 21s 45ms/step - loss: 0.5196 - accuracy: 0.8617 - val_loss: 0.3644 - val_accuracy: 0.9163',\n",
    "'469/469 [==============================] - 21s 45ms/step - loss: 0.5132 - accuracy: 0.8625 - val_loss: 0.3596 - val_accuracy: 0.9169',\n",
    "'469/469 [==============================] - 22s 48ms/step - loss: 0.5040 - accuracy: 0.8648 - val_loss: 0.3548 - val_accuracy: 0.9175',\n",
    "'469/469 [==============================] - 22s 47ms/step - loss: 0.5029 - accuracy: 0.8658 - val_loss: 0.3501 - val_accuracy: 0.9186',\n",
    "'469/469 [==============================] - 22s 47ms/step - loss: 0.4971 - accuracy: 0.8682 - val_loss: 0.3456 - val_accuracy: 0.9199',\n",
    "'469/469 [==============================] - 21s 46ms/step - loss: 0.4903 - accuracy: 0.8698 - val_loss: 0.3412 - val_accuracy: 0.9202',\n",
    "'469/469 [==============================] - 22s 46ms/step - loss: 0.4833 - accuracy: 0.8711 - val_loss: 0.3370 - val_accuracy: 0.9213',\n",
    "'469/469 [==============================] - 22s 46ms/step - loss: 0.4802 - accuracy: 0.8733 - val_loss: 0.3328 - val_accuracy: 0.9214',\n",
    "'469/469 [==============================] - 21s 46ms/step - loss: 0.4751 - accuracy: 0.8731 - val_loss: 0.3288 - val_accuracy: 0.9218',\n",
    "'469/469 [==============================] - 22s 47ms/step - loss: 0.4701 - accuracy: 0.8749 - val_loss: 0.3248 - val_accuracy: 0.9221',\n",
    "'469/469 [==============================] - 23s 49ms/step - loss: 0.4642 - accuracy: 0.8774 - val_loss: 0.3210 - val_accuracy: 0.9231',\n",
    "'469/469 [==============================] - 22s 47ms/step - loss: 0.4638 - accuracy: 0.8763 - val_loss: 0.3172 - val_accuracy: 0.9241',\n",
    "'469/469 [==============================] - 23s 49ms/step - loss: 0.4604 - accuracy: 0.8768 - val_loss: 0.3137 - val_accuracy: 0.9248',\n",
    "'469/469 [==============================] - 22s 46ms/step - loss: 0.4541 - accuracy: 0.8797 - val_loss: 0.3102 - val_accuracy: 0.9254',\n",
    "'469/469 [==============================] - 22s 47ms/step - loss: 0.4486 - accuracy: 0.8804 - val_loss: 0.3068 - val_accuracy: 0.9260',\n",
    "'469/469 [==============================] - 22s 47ms/step - loss: 0.4457 - accuracy: 0.8813 - val_loss: 0.3035 - val_accuracy: 0.9265',\n",
    "'469/469 [==============================] - 22s 46ms/step - loss: 0.4426 - accuracy: 0.8830 - val_loss: 0.3003 - val_accuracy: 0.9276',\n",
    "'469/469 [==============================] - 23s 50ms/step - loss: 0.4376 - accuracy: 0.8844 - val_loss: 0.2970 - val_accuracy: 0.9280',\n",
    "'469/469 [==============================] - 23s 49ms/step - loss: 0.4336 - accuracy: 0.8846 - val_loss: 0.2940 - val_accuracy: 0.9281',\n",
    "'469/469 [==============================] - 23s 49ms/step - loss: 0.4292 - accuracy: 0.8862 - val_loss: 0.2910 - val_accuracy: 0.9283',\n",
    "'469/469 [==============================] - 23s 48ms/step - loss: 0.4288 - accuracy: 0.8867 - val_loss: 0.2879 - val_accuracy: 0.9299',\n",
    "'469/469 [==============================] - 23s 49ms/step - loss: 0.4221 - accuracy: 0.8878 - val_loss: 0.2850 - val_accuracy: 0.9301',\n",
    "'469/469 [==============================] - 23s 50ms/step - loss: 0.4189 - accuracy: 0.8888 - val_loss: 0.2822 - val_accuracy: 0.9308',\n",
    "'469/469 [==============================] - 22s 47ms/step - loss: 0.4178 - accuracy: 0.8878 - val_loss: 0.2794 - val_accuracy: 0.9318',\n",
    "'469/469 [==============================] - 22s 46ms/step - loss: 0.4109 - accuracy: 0.8906 - val_loss: 0.2768 - val_accuracy: 0.9314',\n",
    "'469/469 [==============================] - 23s 49ms/step - loss: 0.4106 - accuracy: 0.8903 - val_loss: 0.2740 - val_accuracy: 0.9323',\n",
    "'469/469 [==============================] - 22s 46ms/step - loss: 0.4033 - accuracy: 0.8935 - val_loss: 0.2715 - val_accuracy: 0.9324',\n",
    "'469/469 [==============================] - 22s 47ms/step - loss: 0.4052 - accuracy: 0.8917 - val_loss: 0.2689 - val_accuracy: 0.9330',\n",
    "'469/469 [==============================] - 23s 48ms/step - loss: 0.3973 - accuracy: 0.8947 - val_loss: 0.2664 - val_accuracy: 0.9333',\n",
    "'469/469 [==============================] - 24s 51ms/step - loss: 0.3933 - accuracy: 0.8966 - val_loss: 0.2639 - val_accuracy: 0.9337',\n",
    "'469/469 [==============================] - 23s 48ms/step - loss: 0.3899 - accuracy: 0.8969 - val_loss: 0.2616 - val_accuracy: 0.9337',\n",
    "'469/469 [==============================] - 22s 47ms/step - loss: 0.3892 - accuracy: 0.8966 - val_loss: 0.2591 - val_accuracy: 0.9342',\n",
    "'469/469 [==============================] - 22s 47ms/step - loss: 0.3854 - accuracy: 0.8987 - val_loss: 0.2567 - val_accuracy: 0.9348',\n",
    "'469/469 [==============================] - 21s 46ms/step - loss: 0.3835 - accuracy: 0.8973 - val_loss: 0.2544 - val_accuracy: 0.9350',\n",
    "'469/469 [==============================] - 22s 47ms/step - loss: 0.3815 - accuracy: 0.8990 - val_loss: 0.2523 - val_accuracy: 0.9353',\n",
    "'469/469 [==============================] - 22s 46ms/step - loss: 0.3790 - accuracy: 0.8991 - val_loss: 0.2501 - val_accuracy: 0.9356',\n",
    "'469/469 [==============================] - 22s 47ms/step - loss: 0.3742 - accuracy: 0.9004 - val_loss: 0.2479 - val_accuracy: 0.9356',\n",
    "'469/469 [==============================] - 26s 55ms/step - loss: 0.3733 - accuracy: 0.8999 - val_loss: 0.2460 - val_accuracy: 0.9362',\n",
    "'469/469 [==============================] - 21s 45ms/step - loss: 0.3685 - accuracy: 0.9021 - val_loss: 0.2438 - val_accuracy: 0.9367',\n",
    "'469/469 [==============================] - 22s 47ms/step - loss: 0.3678 - accuracy: 0.9020 - val_loss: 0.2417 - val_accuracy: 0.9368',\n",
    "'469/469 [==============================] - 21s 46ms/step - loss: 0.3641 - accuracy: 0.9050 - val_loss: 0.2395 - val_accuracy: 0.9372',\n",
    "'469/469 [==============================] - 21s 46ms/step - loss: 0.3628 - accuracy: 0.9025 - val_loss: 0.2378 - val_accuracy: 0.9375',\n",
    "'469/469 [==============================] - 22s 47ms/step - loss: 0.3598 - accuracy: 0.9041 - val_loss: 0.2357 - val_accuracy: 0.9378',\n",
    "'469/469 [==============================] - 22s 46ms/step - loss: 0.3560 - accuracy: 0.9040 - val_loss: 0.2338 - val_accuracy: 0.9385']"
   ]
  },
  {
   "cell_type": "code",
   "execution_count": 55,
   "metadata": {},
   "outputs": [],
   "source": [
    "#tanh Adadelta\n",
    "loss_Adadelta = []\n",
    "accuracy_Adadelta = []\n",
    "val_loss_Adadelta = []\n",
    "val_accuracy_Adadelta = []\n",
    "for i in range(96):\n",
    "    loss_Adadelta.append(float(tanhAdadeltanhAdadleta[i][65:71]))\n",
    "    accuracy_Adadelta.append(float(tanhAdadeltanhAdadleta[i][84:90]))\n",
    "    val_loss_Adadelta.append(float(tanhAdadeltanhAdadleta[i][103:109]))\n",
    "    val_accuracy_Adadelta.append(float(tanhAdadeltanhAdadleta[i][126:134]))"
   ]
  },
  {
   "cell_type": "code",
   "execution_count": null,
   "metadata": {},
   "outputs": [],
   "source": []
  },
  {
   "cell_type": "code",
   "execution_count": null,
   "metadata": {},
   "outputs": [],
   "source": []
  },
  {
   "cell_type": "code",
   "execution_count": 56,
   "metadata": {},
   "outputs": [],
   "source": [
    "tanhRMSprop = [ '469/469 [==============================] - 33s 70ms/step - loss: 0.2418 - accuracy: 0.9322 - val_loss: 0.0622 - val_accuracy: 0.9805',\n",
    "'469/469 [==============================] - 32s 68ms/step - loss: 0.0973 - accuracy: 0.9720 - val_loss: 0.0525 - val_accuracy: 0.9838',\n",
    "'469/469 [==============================] - 31s 67ms/step - loss: 0.0734 - accuracy: 0.9788 - val_loss: 0.0434 - val_accuracy: 0.9878',\n",
    "'469/469 [==============================] - 31s 66ms/step - loss: 0.0597 - accuracy: 0.9826 - val_loss: 0.0347 - val_accuracy: 0.9899',\n",
    "'469/469 [==============================] - 31s 67ms/step - loss: 0.0525 - accuracy: 0.9855 - val_loss: 0.0355 - val_accuracy: 0.9893',\n",
    "'469/469 [==============================] - 32s 67ms/step - loss: 0.0461 - accuracy: 0.9868 - val_loss: 0.0316 - val_accuracy: 0.9898',\n",
    "'469/469 [==============================] - 31s 66ms/step - loss: 0.0398 - accuracy: 0.9887 - val_loss: 0.0375 - val_accuracy: 0.9897',\n",
    "'469/469 [==============================] - 31s 67ms/step - loss: 0.0368 - accuracy: 0.9893 - val_loss: 0.0381 - val_accuracy: 0.9880',\n",
    "'469/469 [==============================] - 31s 67ms/step - loss: 0.0325 - accuracy: 0.9905 - val_loss: 0.0317 - val_accuracy: 0.9913',\n",
    "'469/469 [==============================] - 32s 68ms/step - loss: 0.0296 - accuracy: 0.9914 - val_loss: 0.0342 - val_accuracy: 0.9903',\n",
    "'469/469 [==============================] - 33s 70ms/step - loss: 0.0283 - accuracy: 0.9921 - val_loss: 0.0349 - val_accuracy: 0.9909',\n",
    "'469/469 [==============================] - 32s 68ms/step - loss: 0.0251 - accuracy: 0.9923 - val_loss: 0.0335 - val_accuracy: 0.9904',\n",
    "'469/469 [==============================] - 31s 67ms/step - loss: 0.0240 - accuracy: 0.9934 - val_loss: 0.0296 - val_accuracy: 0.9922',\n",
    "'469/469 [==============================] - 31s 67ms/step - loss: 0.0216 - accuracy: 0.9934 - val_loss: 0.0369 - val_accuracy: 0.9912',\n",
    "'469/469 [==============================] - 32s 67ms/step - loss: 0.0187 - accuracy: 0.9946 - val_loss: 0.0374 - val_accuracy: 0.9895',\n",
    "'469/469 [==============================] - 32s 67ms/step - loss: 0.0191 - accuracy: 0.9942 - val_loss: 0.0337 - val_accuracy: 0.9912',\n",
    "'469/469 [==============================] - 32s 67ms/step - loss: 0.0164 - accuracy: 0.9953 - val_loss: 0.0380 - val_accuracy: 0.9903',\n",
    "'469/469 [==============================] - 32s 68ms/step - loss: 0.0160 - accuracy: 0.9951 - val_loss: 0.0414 - val_accuracy: 0.9901',\n",
    "'469/469 [==============================] - 31s 67ms/step - loss: 0.0138 - accuracy: 0.9955 - val_loss: 0.0352 - val_accuracy: 0.9908',\n",
    "'469/469 [==============================] - 32s 68ms/step - loss: 0.0142 - accuracy: 0.9957 - val_loss: 0.0386 - val_accuracy: 0.9910',\n",
    "'469/469 [==============================] - 32s 68ms/step - loss: 0.0130 - accuracy: 0.9960 - val_loss: 0.0372 - val_accuracy: 0.9917',\n",
    "'469/469 [==============================] - 32s 68ms/step - loss: 0.0117 - accuracy: 0.9963 - val_loss: 0.0372 - val_accuracy: 0.9920',\n",
    "'469/469 [==============================] - 32s 67ms/step - loss: 0.0108 - accuracy: 0.9969 - val_loss: 0.0380 - val_accuracy: 0.9926',\n",
    "'469/469 [==============================] - 32s 67ms/step - loss: 0.0102 - accuracy: 0.9969 - val_loss: 0.0410 - val_accuracy: 0.9910',\n",
    "'469/469 [==============================] - 32s 68ms/step - loss: 0.0101 - accuracy: 0.9972 - val_loss: 0.0419 - val_accuracy: 0.9918',\n",
    "'469/469 [==============================] - 31s 67ms/step - loss: 0.0100 - accuracy: 0.9970 - val_loss: 0.0435 - val_accuracy: 0.9917',\n",
    "'469/469 [==============================] - 30s 65ms/step - loss: 0.0088 - accuracy: 0.9974 - val_loss: 0.0403 - val_accuracy: 0.9917',\n",
    "'469/469 [==============================] - 30s 64ms/step - loss: 0.0083 - accuracy: 0.9974 - val_loss: 0.0411 - val_accuracy: 0.9921',\n",
    "'469/469 [==============================] - 30s 64ms/step - loss: 0.0096 - accuracy: 0.9971 - val_loss: 0.0452 - val_accuracy: 0.9912',\n",
    "'469/469 [==============================] - 30s 64ms/step - loss: 0.0087 - accuracy: 0.9973 - val_loss: 0.0434 - val_accuracy: 0.9916',\n",
    "'469/469 [==============================] - 30s 63ms/step - loss: 0.0074 - accuracy: 0.9980 - val_loss: 0.0482 - val_accuracy: 0.9915',\n",
    "'469/469 [==============================] - 30s 65ms/step - loss: 0.0072 - accuracy: 0.9981 - val_loss: 0.0414 - val_accuracy: 0.9922',\n",
    "'469/469 [==============================] - 31s 65ms/step - loss: 0.0064 - accuracy: 0.9981 - val_loss: 0.0457 - val_accuracy: 0.9917',\n",
    "'469/469 [==============================] - 31s 65ms/step - loss: 0.0057 - accuracy: 0.9982 - val_loss: 0.0457 - val_accuracy: 0.9920',\n",
    "'469/469 [==============================] - 29s 61ms/step - loss: 0.0076 - accuracy: 0.9977 - val_loss: 0.0560 - val_accuracy: 0.9914',\n",
    "'469/469 [==============================] - 23s 49ms/step - loss: 0.0060 - accuracy: 0.9982 - val_loss: 0.0456 - val_accuracy: 0.9912',\n",
    "'469/469 [==============================] - 25s 53ms/step - loss: 0.0063 - accuracy: 0.9980 - val_loss: 0.0467 - val_accuracy: 0.9927',\n",
    "'469/469 [==============================] - 21s 45ms/step - loss: 0.0060 - accuracy: 0.9982 - val_loss: 0.0503 - val_accuracy: 0.9914',\n",
    "'469/469 [==============================] - 20s 44ms/step - loss: 0.0066 - accuracy: 0.9981 - val_loss: 0.0540 - val_accuracy: 0.9919',\n",
    "'469/469 [==============================] - 20s 44ms/step - loss: 0.0059 - accuracy: 0.9983 - val_loss: 0.0482 - val_accuracy: 0.9925',\n",
    "'469/469 [==============================] - 21s 44ms/step - loss: 0.0047 - accuracy: 0.9986 - val_loss: 0.0502 - val_accuracy: 0.9915',\n",
    "'469/469 [==============================] - 21s 44ms/step - loss: 0.0045 - accuracy: 0.9989 - val_loss: 0.0486 - val_accuracy: 0.9926',\n",
    "'469/469 [==============================] - 21s 44ms/step - loss: 0.0050 - accuracy: 0.9986 - val_loss: 0.0446 - val_accuracy: 0.9921',\n",
    "'469/469 [==============================] - 21s 45ms/step - loss: 0.0045 - accuracy: 0.9989 - val_loss: 0.0591 - val_accuracy: 0.9905',\n",
    "'469/469 [==============================] - 21s 46ms/step - loss: 0.0048 - accuracy: 0.9985 - val_loss: 0.0494 - val_accuracy: 0.9915',\n",
    "'469/469 [==============================] - 21s 44ms/step - loss: 0.0046 - accuracy: 0.9985 - val_loss: 0.0590 - val_accuracy: 0.9910',\n",
    "'469/469 [==============================] - 21s 44ms/step - loss: 0.0044 - accuracy: 0.9989 - val_loss: 0.0485 - val_accuracy: 0.9916',\n",
    "'469/469 [==============================] - 21s 45ms/step - loss: 0.0036 - accuracy: 0.9988 - val_loss: 0.0509 - val_accuracy: 0.9922',\n",
    "'469/469 [==============================] - 21s 45ms/step - loss: 0.0045 - accuracy: 0.9987 - val_loss: 0.0540 - val_accuracy: 0.9914',\n",
    "'469/469 [==============================] - 21s 44ms/step - loss: 0.0038 - accuracy: 0.9989 - val_loss: 0.0527 - val_accuracy: 0.9916',\n",
    "'469/469 [==============================] - 22s 46ms/step - loss: 0.0038 - accuracy: 0.9990 - val_loss: 0.0639 - val_accuracy: 0.9909',\n",
    "'469/469 [==============================] - 21s 46ms/step - loss: 0.0028 - accuracy: 0.9991 - val_loss: 0.0591 - val_accuracy: 0.9922',\n",
    "'469/469 [==============================] - 21s 44ms/step - loss: 0.0038 - accuracy: 0.9990 - val_loss: 0.0611 - val_accuracy: 0.9912',\n",
    "'469/469 [==============================] - 21s 45ms/step - loss: 0.0038 - accuracy: 0.9988 - val_loss: 0.0568 - val_accuracy: 0.9912',\n",
    "'469/469 [==============================] - 21s 44ms/step - loss: 0.0031 - accuracy: 0.9991 - val_loss: 0.0631 - val_accuracy: 0.9904',\n",
    "'469/469 [==============================] - 21s 45ms/step - loss: 0.0040 - accuracy: 0.9989 - val_loss: 0.0632 - val_accuracy: 0.9904',\n",
    "'469/469 [==============================] - 21s 44ms/step - loss: 0.0035 - accuracy: 0.9990 - val_loss: 0.0601 - val_accuracy: 0.9911',\n",
    "'469/469 [==============================] - 21s 44ms/step - loss: 0.0035 - accuracy: 0.9988 - val_loss: 0.0595 - val_accuracy: 0.9915',\n",
    "'469/469 [==============================] - 21s 45ms/step - loss: 0.0037 - accuracy: 0.9989 - val_loss: 0.0560 - val_accuracy: 0.9915',\n",
    "'469/469 [==============================] - 21s 45ms/step - loss: 0.0042 - accuracy: 0.9988 - val_loss: 0.0539 - val_accuracy: 0.9921',\n",
    "'469/469 [==============================] - 21s 44ms/step - loss: 0.0034 - accuracy: 0.9989 - val_loss: 0.0515 - val_accuracy: 0.9921',\n",
    "'469/469 [==============================] - 21s 45ms/step - loss: 0.0035 - accuracy: 0.9990 - val_loss: 0.0496 - val_accuracy: 0.9923',\n",
    "'469/469 [==============================] - 22s 48ms/step - loss: 0.0032 - accuracy: 0.9989 - val_loss: 0.0557 - val_accuracy: 0.9926',\n",
    "'469/469 [==============================] - 22s 46ms/step - loss: 0.0034 - accuracy: 0.9990 - val_loss: 0.0571 - val_accuracy: 0.9917',\n",
    "'469/469 [==============================] - 22s 47ms/step - loss: 0.0031 - accuracy: 0.9991 - val_loss: 0.0574 - val_accuracy: 0.9914',\n",
    "'469/469 [==============================] - 21s 45ms/step - loss: 0.0034 - accuracy: 0.9991 - val_loss: 0.0587 - val_accuracy: 0.9916',\n",
    "'469/469 [==============================] - 21s 45ms/step - loss: 0.0034 - accuracy: 0.9990 - val_loss: 0.0569 - val_accuracy: 0.9918',\n",
    "'469/469 [==============================] - 21s 44ms/step - loss: 0.0021 - accuracy: 0.9993 - val_loss: 0.0524 - val_accuracy: 0.9922',\n",
    "'469/469 [==============================] - 21s 44ms/step - loss: 0.0028 - accuracy: 0.9992 - val_loss: 0.0600 - val_accuracy: 0.9915',\n",
    "'469/469 [==============================] - 21s 44ms/step - loss: 0.0032 - accuracy: 0.9991 - val_loss: 0.0669 - val_accuracy: 0.9925',\n",
    "'469/469 [==============================] - 21s 44ms/step - loss: 0.0022 - accuracy: 0.9992 - val_loss: 0.0602 - val_accuracy: 0.9929',\n",
    "'469/469 [==============================] - 21s 45ms/step - loss: 0.0025 - accuracy: 0.9992 - val_loss: 0.0684 - val_accuracy: 0.9914',\n",
    "'469/469 [==============================] - 21s 44ms/step - loss: 0.0023 - accuracy: 0.9993 - val_loss: 0.0661 - val_accuracy: 0.9919',\n",
    "'469/469 [==============================] - 21s 45ms/step - loss: 0.0029 - accuracy: 0.9991 - val_loss: 0.0598 - val_accuracy: 0.9917',\n",
    "'469/469 [==============================] - 21s 45ms/step - loss: 0.0028 - accuracy: 0.9992 - val_loss: 0.0669 - val_accuracy: 0.9923',\n",
    "'469/469 [==============================] - 21s 44ms/step - loss: 0.0032 - accuracy: 0.9992 - val_loss: 0.0574 - val_accuracy: 0.9921',\n",
    "'469/469 [==============================] - 21s 44ms/step - loss: 0.0025 - accuracy: 0.9994 - val_loss: 0.0616 - val_accuracy: 0.9925',\n",
    "'469/469 [==============================] - 21s 44ms/step - loss: 0.0020 - accuracy: 0.9994 - val_loss: 0.0635 - val_accuracy: 0.9924',\n",
    "'469/469 [==============================] - 21s 44ms/step - loss: 0.0033 - accuracy: 0.9992 - val_loss: 0.0660 - val_accuracy: 0.9924',\n",
    "'469/469 [==============================] - 21s 44ms/step - loss: 0.0026 - accuracy: 0.9991 - val_loss: 0.0600 - val_accuracy: 0.9926',\n",
    "'469/469 [==============================] - 21s 44ms/step - loss: 0.0024 - accuracy: 0.9994 - val_loss: 0.0701 - val_accuracy: 0.9914',\n",
    "'469/469 [==============================] - 21s 46ms/step - loss: 0.0020 - accuracy: 0.9993 - val_loss: 0.0630 - val_accuracy: 0.9919',\n",
    "'469/469 [==============================] - 21s 44ms/step - loss: 0.0022 - accuracy: 0.9994 - val_loss: 0.0666 - val_accuracy: 0.9921',\n",
    "'469/469 [==============================] - 21s 44ms/step - loss: 0.0023 - accuracy: 0.9993 - val_loss: 0.0691 - val_accuracy: 0.9917',\n",
    "'469/469 [==============================] - 21s 46ms/step - loss: 0.0026 - accuracy: 0.9993 - val_loss: 0.0721 - val_accuracy: 0.9924',\n",
    "'469/469 [==============================] - 22s 46ms/step - loss: 0.0025 - accuracy: 0.9993 - val_loss: 0.0714 - val_accuracy: 0.9921',\n",
    "'469/469 [==============================] - 21s 45ms/step - loss: 0.0025 - accuracy: 0.9994 - val_loss: 0.0666 - val_accuracy: 0.9919',\n",
    "'469/469 [==============================] - 21s 44ms/step - loss: 0.0019 - accuracy: 0.9994 - val_loss: 0.0687 - val_accuracy: 0.9919',\n",
    "'469/469 [==============================] - 21s 44ms/step - loss: 0.0026 - accuracy: 0.9993 - val_loss: 0.0698 - val_accuracy: 0.9918',\n",
    "'469/469 [==============================] - 21s 45ms/step - loss: 0.0022 - accuracy: 0.9994 - val_loss: 0.0700 - val_accuracy: 0.9915',\n",
    "'469/469 [==============================] - 21s 44ms/step - loss: 0.0027 - accuracy: 0.9992 - val_loss: 0.0727 - val_accuracy: 0.9924',\n",
    "'469/469 [==============================] - 21s 44ms/step - loss: 0.0019 - accuracy: 0.9995 - val_loss: 0.0767 - val_accuracy: 0.9915',\n",
    "'469/469 [==============================] - 22s 46ms/step - loss: 0.0023 - accuracy: 0.9994 - val_loss: 0.0739 - val_accuracy: 0.9922',\n",
    "'469/469 [==============================] - 21s 45ms/step - loss: 0.0017 - accuracy: 0.9995 - val_loss: 0.0781 - val_accuracy: 0.9915',\n",
    "'469/469 [==============================] - 21s 44ms/step - loss: 0.0022 - accuracy: 0.9994 - val_loss: 0.0754 - val_accuracy: 0.9915',\n",
    "'469/469 [==============================] - 21s 44ms/step - loss: 0.0023 - accuracy: 0.9994 - val_loss: 0.0716 - val_accuracy: 0.9913',\n",
    "'469/469 [==============================] - 21s 44ms/step - loss: 0.0022 - accuracy: 0.9994 - val_loss: 0.0688 - val_accuracy: 0.9920',\n",
    "'469/469 [==============================] - 21s 45ms/step - loss: 0.0020 - accuracy: 0.9993 - val_loss: 0.0822 - val_accuracy: 0.9912']"
   ]
  },
  {
   "cell_type": "code",
   "execution_count": 57,
   "metadata": {},
   "outputs": [],
   "source": [
    "#sigmoid Adadelta\n",
    "loss_RMS = []\n",
    "accuracy_RMS = []\n",
    "val_loss_RMS = []\n",
    "val_accuracy_RMS = []\n",
    "for i in range(98):\n",
    "    loss_RMS.append(float(tanhRMSprop[i][65:71]))\n",
    "    accuracy_RMS.append(float(tanhRMSprop[i][84:90]))\n",
    "    val_loss_RMS.append(float(tanhRMSprop[i][103:109]))\n",
    "    val_accuracy_RMS.append(float(tanhRMSprop[i][126:134]))"
   ]
  },
  {
   "cell_type": "code",
   "execution_count": null,
   "metadata": {},
   "outputs": [],
   "source": []
  },
  {
   "cell_type": "code",
   "execution_count": 58,
   "metadata": {},
   "outputs": [],
   "source": [
    "reluAdam = ['469/469 [==============================] - 17s 36ms/step - loss: 0.3843 - accuracy: 0.8793 - val_loss: 0.0589 - val_accuracy: 0.9822',\n",
    "'469/469 [==============================] - 17s 36ms/step - loss: 0.1084 - accuracy: 0.9707 - val_loss: 0.0373 - val_accuracy: 0.9883',\n",
    "'469/469 [==============================] - 18s 38ms/step - loss: 0.0771 - accuracy: 0.9790 - val_loss: 0.0340 - val_accuracy: 0.9897',\n",
    "'469/469 [==============================] - 19s 40ms/step - loss: 0.0610 - accuracy: 0.9843 - val_loss: 0.0306 - val_accuracy: 0.9909',\n",
    "'469/469 [==============================] - 19s 41ms/step - loss: 0.0540 - accuracy: 0.9862 - val_loss: 0.0363 - val_accuracy: 0.9883',\n",
    "'469/469 [==============================] - 20s 43ms/step - loss: 0.0484 - accuracy: 0.9874 - val_loss: 0.0273 - val_accuracy: 0.9916',\n",
    "'469/469 [==============================] - 19s 41ms/step - loss: 0.0383 - accuracy: 0.9901 - val_loss: 0.0312 - val_accuracy: 0.9914',\n",
    "'469/469 [==============================] - 19s 41ms/step - loss: 0.0349 - accuracy: 0.9905 - val_loss: 0.0258 - val_accuracy: 0.9935',\n",
    "'469/469 [==============================] - 21s 44ms/step - loss: 0.0306 - accuracy: 0.9919 - val_loss: 0.0288 - val_accuracy: 0.9920',\n",
    "'469/469 [==============================] - 19s 42ms/step - loss: 0.0279 - accuracy: 0.9930 - val_loss: 0.0303 - val_accuracy: 0.9928',\n",
    "'469/469 [==============================] - 21s 44ms/step - loss: 0.0258 - accuracy: 0.9929 - val_loss: 0.0300 - val_accuracy: 0.9916',\n",
    "'469/469 [==============================] - 19s 41ms/step - loss: 0.0229 - accuracy: 0.9940 - val_loss: 0.0266 - val_accuracy: 0.9928',\n",
    "'469/469 [==============================] - 19s 41ms/step - loss: 0.0217 - accuracy: 0.9938 - val_loss: 0.0317 - val_accuracy: 0.9932',\n",
    "'469/469 [==============================] - 20s 42ms/step - loss: 0.0205 - accuracy: 0.9941 - val_loss: 0.0269 - val_accuracy: 0.9929',\n",
    "'469/469 [==============================] - 19s 40ms/step - loss: 0.0188 - accuracy: 0.9949 - val_loss: 0.0283 - val_accuracy: 0.9928',\n",
    "'469/469 [==============================] - 19s 40ms/step - loss: 0.0165 - accuracy: 0.9957 - val_loss: 0.0290 - val_accuracy: 0.9923',\n",
    "'469/469 [==============================] - 20s 42ms/step - loss: 0.0169 - accuracy: 0.9955 - val_loss: 0.0337 - val_accuracy: 0.9920',\n",
    "'469/469 [==============================] - 19s 41ms/step - loss: 0.0147 - accuracy: 0.9960 - val_loss: 0.0400 - val_accuracy: 0.9924',\n",
    "'469/469 [==============================] - 19s 40ms/step - loss: 0.0149 - accuracy: 0.9961 - val_loss: 0.0363 - val_accuracy: 0.9919',\n",
    "'469/469 [==============================] - 19s 42ms/step - loss: 0.0144 - accuracy: 0.9955 - val_loss: 0.0390 - val_accuracy: 0.9918',\n",
    "'469/469 [==============================] - 20s 43ms/step - loss: 0.0147 - accuracy: 0.9959 - val_loss: 0.0307 - val_accuracy: 0.9936',\n",
    "'469/469 [==============================] - 19s 41ms/step - loss: 0.0105 - accuracy: 0.9966 - val_loss: 0.0416 - val_accuracy: 0.9922',\n",
    "'469/469 [==============================] - 20s 43ms/step - loss: 0.0136 - accuracy: 0.9962 - val_loss: 0.0297 - val_accuracy: 0.9934',\n",
    "'469/469 [==============================] - 19s 40ms/step - loss: 0.0117 - accuracy: 0.9967 - val_loss: 0.0382 - val_accuracy: 0.9932',\n",
    "'469/469 [==============================] - 20s 43ms/step - loss: 0.0102 - accuracy: 0.9972 - val_loss: 0.0367 - val_accuracy: 0.9937',\n",
    "'469/469 [==============================] - 20s 42ms/step - loss: 0.0122 - accuracy: 0.9969 - val_loss: 0.0376 - val_accuracy: 0.9928',\n",
    "'469/469 [==============================] - 21s 44ms/step - loss: 0.0105 - accuracy: 0.9970 - val_loss: 0.0306 - val_accuracy: 0.9942',\n",
    "'469/469 [==============================] - 20s 43ms/step - loss: 0.0097 - accuracy: 0.9970 - val_loss: 0.0335 - val_accuracy: 0.9932',\n",
    "'469/469 [==============================] - 21s 44ms/step - loss: 0.0097 - accuracy: 0.9973 - val_loss: 0.0438 - val_accuracy: 0.9925',\n",
    "'469/469 [==============================] - 21s 44ms/step - loss: 0.0112 - accuracy: 0.9968 - val_loss: 0.0360 - val_accuracy: 0.9935',\n",
    "'469/469 [==============================] - 20s 42ms/step - loss: 0.0073 - accuracy: 0.9979 - val_loss: 0.0526 - val_accuracy: 0.9921',\n",
    "'469/469 [==============================] - 20s 43ms/step - loss: 0.0075 - accuracy: 0.9977 - val_loss: 0.0406 - val_accuracy: 0.9933',\n",
    "'469/469 [==============================] - 21s 45ms/step - loss: 0.0112 - accuracy: 0.9970 - val_loss: 0.0442 - val_accuracy: 0.9935',\n",
    "'469/469 [==============================] - 20s 43ms/step - loss: 0.0079 - accuracy: 0.9977 - val_loss: 0.0449 - val_accuracy: 0.9927',\n",
    "'469/469 [==============================] - 19s 41ms/step - loss: 0.0071 - accuracy: 0.9978 - val_loss: 0.0451 - val_accuracy: 0.9932',\n",
    "'469/469 [==============================] - 19s 41ms/step - loss: 0.0083 - accuracy: 0.9976 - val_loss: 0.0442 - val_accuracy: 0.9928',\n",
    "'469/469 [==============================] - 19s 41ms/step - loss: 0.0076 - accuracy: 0.9977 - val_loss: 0.0378 - val_accuracy: 0.9937',\n",
    "'469/469 [==============================] - 21s 45ms/step - loss: 0.0084 - accuracy: 0.9976 - val_loss: 0.0491 - val_accuracy: 0.9921',\n",
    "'469/469 [==============================] - 20s 43ms/step - loss: 0.0083 - accuracy: 0.9976 - val_loss: 0.0515 - val_accuracy: 0.9916',\n",
    "'469/469 [==============================] - 20s 43ms/step - loss: 0.0081 - accuracy: 0.9977 - val_loss: 0.0490 - val_accuracy: 0.9934',\n",
    "'469/469 [==============================] - 19s 41ms/step - loss: 0.0095 - accuracy: 0.9972 - val_loss: 0.0416 - val_accuracy: 0.9930',\n",
    "'469/469 [==============================] - 20s 42ms/step - loss: 0.0064 - accuracy: 0.9981 - val_loss: 0.0382 - val_accuracy: 0.9937',\n",
    "'469/469 [==============================] - 20s 42ms/step - loss: 0.0073 - accuracy: 0.9980 - val_loss: 0.0428 - val_accuracy: 0.9933',\n",
    "'469/469 [==============================] - 20s 42ms/step - loss: 0.0066 - accuracy: 0.9981 - val_loss: 0.0475 - val_accuracy: 0.9926',\n",
    "'469/469 [==============================] - 20s 43ms/step - loss: 0.0054 - accuracy: 0.9983 - val_loss: 0.0526 - val_accuracy: 0.9934',\n",
    "'469/469 [==============================] - 20s 42ms/step - loss: 0.0056 - accuracy: 0.9983 - val_loss: 0.0469 - val_accuracy: 0.9933',\n",
    "'469/469 [==============================] - 20s 42ms/step - loss: 0.0075 - accuracy: 0.9978 - val_loss: 0.0470 - val_accuracy: 0.9937',\n",
    "'469/469 [==============================] - 20s 42ms/step - loss: 0.0087 - accuracy: 0.9976 - val_loss: 0.0432 - val_accuracy: 0.9931',\n",
    "'469/469 [==============================] - 20s 42ms/step - loss: 0.0062 - accuracy: 0.9983 - val_loss: 0.0394 - val_accuracy: 0.9938',\n",
    "'469/469 [==============================] - 20s 42ms/step - loss: 0.0058 - accuracy: 0.9984 - val_loss: 0.0433 - val_accuracy: 0.9943',\n",
    "'469/469 [==============================] - 20s 44ms/step - loss: 0.0059 - accuracy: 0.9981 - val_loss: 0.0442 - val_accuracy: 0.9935',\n",
    "'469/469 [==============================] - 22s 47ms/step - loss: 0.0060 - accuracy: 0.9982 - val_loss: 0.0412 - val_accuracy: 0.9939',\n",
    "'469/469 [==============================] - 22s 47ms/step - loss: 0.0069 - accuracy: 0.9982 - val_loss: 0.0422 - val_accuracy: 0.9936',\n",
    "'469/469 [==============================] - 21s 44ms/step - loss: 0.0061 - accuracy: 0.9982 - val_loss: 0.0502 - val_accuracy: 0.9926',\n",
    "'469/469 [==============================] - 20s 43ms/step - loss: 0.0082 - accuracy: 0.9982 - val_loss: 0.0386 - val_accuracy: 0.9946',\n",
    "'469/469 [==============================] - 19s 41ms/step - loss: 0.0051 - accuracy: 0.9986 - val_loss: 0.0522 - val_accuracy: 0.9924',\n",
    "'469/469 [==============================] - 20s 44ms/step - loss: 0.0058 - accuracy: 0.9984 - val_loss: 0.0517 - val_accuracy: 0.9928',\n",
    "'469/469 [==============================] - 20s 43ms/step - loss: 0.0048 - accuracy: 0.9985 - val_loss: 0.0667 - val_accuracy: 0.9937',\n",
    "'469/469 [==============================] - 20s 42ms/step - loss: 0.0062 - accuracy: 0.9981 - val_loss: 0.0530 - val_accuracy: 0.9933',\n",
    "'469/469 [==============================] - 19s 41ms/step - loss: 0.0058 - accuracy: 0.9984 - val_loss: 0.0482 - val_accuracy: 0.9941',\n",
    "'469/469 [==============================] - 19s 41ms/step - loss: 0.0047 - accuracy: 0.9986 - val_loss: 0.0458 - val_accuracy: 0.9943',\n",
    "'469/469 [==============================] - 19s 41ms/step - loss: 0.0051 - accuracy: 0.9987 - val_loss: 0.0515 - val_accuracy: 0.9928',\n",
    "'469/469 [==============================] - 19s 42ms/step - loss: 0.0065 - accuracy: 0.9982 - val_loss: 0.0546 - val_accuracy: 0.9932',\n",
    "'469/469 [==============================] - 19s 41ms/step - loss: 0.0060 - accuracy: 0.9984 - val_loss: 0.0494 - val_accuracy: 0.9939',\n",
    "'469/469 [==============================] - 19s 41ms/step - loss: 0.0058 - accuracy: 0.9984 - val_loss: 0.0652 - val_accuracy: 0.9916',\n",
    "'469/469 [==============================] - 19s 41ms/step - loss: 0.0055 - accuracy: 0.9985 - val_loss: 0.0564 - val_accuracy: 0.9926',\n",
    "'469/469 [==============================] - 19s 41ms/step - loss: 0.0057 - accuracy: 0.9983 - val_loss: 0.0478 - val_accuracy: 0.9940',\n",
    "'469/469 [==============================] - 19s 41ms/step - loss: 0.0031 - accuracy: 0.9990 - val_loss: 0.0497 - val_accuracy: 0.9940',\n",
    "'469/469 [==============================] - 19s 41ms/step - loss: 0.0060 - accuracy: 0.9986 - val_loss: 0.0495 - val_accuracy: 0.9933',\n",
    "'469/469 [==============================] - 20s 43ms/step - loss: 0.0046 - accuracy: 0.9987 - val_loss: 0.0533 - val_accuracy: 0.9940',\n",
    "'469/469 [==============================] - 21s 45ms/step - loss: 0.0057 - accuracy: 0.9985 - val_loss: 0.0670 - val_accuracy: 0.9933',\n",
    "'469/469 [==============================] - 21s 44ms/step - loss: 0.0048 - accuracy: 0.9990 - val_loss: 0.0573 - val_accuracy: 0.9942',\n",
    "'469/469 [==============================] - 21s 45ms/step - loss: 0.0053 - accuracy: 0.9986 - val_loss: 0.0479 - val_accuracy: 0.9940',\n",
    "'469/469 [==============================] - 21s 45ms/step - loss: 0.0040 - accuracy: 0.9988 - val_loss: 0.0558 - val_accuracy: 0.9923',\n",
    "'469/469 [==============================] - 20s 42ms/step - loss: 0.0058 - accuracy: 0.9983 - val_loss: 0.0528 - val_accuracy: 0.9940',\n",
    "'469/469 [==============================] - 20s 42ms/step - loss: 0.0067 - accuracy: 0.9983 - val_loss: 0.0420 - val_accuracy: 0.9938',\n",
    "'469/469 [==============================] - 19s 41ms/step - loss: 0.0039 - accuracy: 0.9989 - val_loss: 0.0531 - val_accuracy: 0.9933',\n",
    "'469/469 [==============================] - 20s 42ms/step - loss: 0.0042 - accuracy: 0.9988 - val_loss: 0.0542 - val_accuracy: 0.9936',\n",
    "'469/469 [==============================] - 20s 42ms/step - loss: 0.0053 - accuracy: 0.9985 - val_loss: 0.0667 - val_accuracy: 0.9921',\n",
    "'469/469 [==============================] - 19s 41ms/step - loss: 0.0058 - accuracy: 0.9985 - val_loss: 0.0491 - val_accuracy: 0.9941',\n",
    "'469/469 [==============================] - 19s 41ms/step - loss: 0.0051 - accuracy: 0.9988 - val_loss: 0.0524 - val_accuracy: 0.9931',\n",
    "'469/469 [==============================] - 19s 41ms/step - loss: 0.0044 - accuracy: 0.9991 - val_loss: 0.0699 - val_accuracy: 0.9928',\n",
    "'469/469 [==============================] - 19s 41ms/step - loss: 0.0033 - accuracy: 0.9991 - val_loss: 0.0873 - val_accuracy: 0.9918',\n",
    "'469/469 [==============================] - 19s 41ms/step - loss: 0.0067 - accuracy: 0.9983 - val_loss: 0.0634 - val_accuracy: 0.9936',\n",
    "'469/469 [==============================] - 19s 41ms/step - loss: 0.0076 - accuracy: 0.9982 - val_loss: 0.0446 - val_accuracy: 0.9945',\n",
    "'469/469 [==============================] - 19s 41ms/step - loss: 0.0034 - accuracy: 0.9990 - val_loss: 0.0492 - val_accuracy: 0.9946',\n",
    "'469/469 [==============================] - 19s 41ms/step - loss: 0.0024 - accuracy: 0.9993 - val_loss: 0.0647 - val_accuracy: 0.9936',\n",
    "'469/469 [==============================] - 19s 41ms/step - loss: 0.0050 - accuracy: 0.9988 - val_loss: 0.0508 - val_accuracy: 0.9937',\n",
    "'469/469 [==============================] - 19s 41ms/step - loss: 0.0041 - accuracy: 0.9989 - val_loss: 0.0660 - val_accuracy: 0.9941',\n",
    "'469/469 [==============================] - 19s 41ms/step - loss: 0.0039 - accuracy: 0.9989 - val_loss: 0.0592 - val_accuracy: 0.9939',\n",
    "'469/469 [==============================] - 19s 41ms/step - loss: 0.0050 - accuracy: 0.9988 - val_loss: 0.0618 - val_accuracy: 0.9926',\n",
    "'469/469 [==============================] - 19s 41ms/step - loss: 0.0037 - accuracy: 0.9989 - val_loss: 0.0542 - val_accuracy: 0.9939',\n",
    "'469/469 [==============================] - 19s 41ms/step - loss: 0.0040 - accuracy: 0.9989 - val_loss: 0.0588 - val_accuracy: 0.9935',\n",
    "'469/469 [==============================] - 19s 41ms/step - loss: 0.0058 - accuracy: 0.9986 - val_loss: 0.0489 - val_accuracy: 0.9942',\n",
    "'469/469 [==============================] - 19s 41ms/step - loss: 0.0061 - accuracy: 0.9986 - val_loss: 0.0558 - val_accuracy: 0.9946',\n",
    "'469/469 [==============================] - 19s 40ms/step - loss: 0.0039 - accuracy: 0.9991 - val_loss: 0.0655 - val_accuracy: 0.9943',\n",
    "'469/469 [==============================] - 19s 41ms/step - loss: 0.0036 - accuracy: 0.9990 - val_loss: 0.0589 - val_accuracy: 0.9937',\n",
    "'469/469 [==============================] - 19s 40ms/step - loss: 0.0045 - accuracy: 0.9987 - val_loss: 0.0627 - val_accuracy: 0.9940',\n",
    "'469/469 [==============================] - 19s 41ms/step - loss: 0.0032 - accuracy: 0.9989 - val_loss: 0.0614 - val_accuracy: 0.9938',\n",
    "'469/469 [==============================] - 19s 40ms/step - loss: 0.0032 - accuracy: 0.9992 - val_loss: 0.0619 - val_accuracy: 0.9940']"
   ]
  },
  {
   "cell_type": "code",
   "execution_count": 66,
   "metadata": {},
   "outputs": [],
   "source": [
    "#relu Adam\n",
    "loss_Adam = []\n",
    "accuracy_Adam = []\n",
    "val_loss_Adam = []\n",
    "val_accuracy_Adam = []\n",
    "for i in range(100):\n",
    "    loss_Adam.append(float(reluAdam[i][65:71]))\n",
    "    accuracy_Adam.append(float(reluAdam[i][84:90]))\n",
    "    val_loss_Adam.append(float(reluAdam[i][103:109]))\n",
    "    val_accuracy_Adam.append(float(reluAdam[i][126:134]))"
   ]
  },
  {
   "cell_type": "code",
   "execution_count": 60,
   "metadata": {},
   "outputs": [
    {
     "data": {
      "text/plain": [
       "100"
      ]
     },
     "execution_count": 60,
     "metadata": {},
     "output_type": "execute_result"
    }
   ],
   "source": [
    "len(reluAdam)"
   ]
  },
  {
   "cell_type": "code",
   "execution_count": null,
   "metadata": {},
   "outputs": [],
   "source": []
  },
  {
   "cell_type": "code",
   "execution_count": 73,
   "metadata": {},
   "outputs": [
    {
     "data": {
      "image/png": "[encoded data removed]",
      "text/plain": [
       "<Figure size 432x288 with 1 Axes>"
      ]
     },
     "metadata": {
      "needs_background": "light"
     },
     "output_type": "display_data"
    }
   ],
   "source": [
    "# plot lines - Both the validation loss and testing loss are converging and approaching 0. (val_loss and loss are converging)\n",
    "# Activation Function - tanh and Adelta.\n",
    "plt.title(\"Perfect fitting\")\n",
    "plt.plot(val_loss_Adadelta, label = \"validation lass\")\n",
    "plt.plot(loss_Adadelta, label = \"training loss\")\n",
    "plt.xlabel('epochs')\n",
    "plt.ylabel('error')\n",
    "plt.legend()\n",
    "plt.show() #increase to 200."
   ]
  },
  {
   "cell_type": "code",
   "execution_count": 62,
   "metadata": {},
   "outputs": [
    {
     "ename": "IndentationError",
     "evalue": "unexpected indent (<ipython-input-62-169133b971c9>, line 2)",
     "output_type": "error",
     "traceback": [
      "\u001b[1;36m  File \u001b[1;32m\"<ipython-input-62-169133b971c9>\"\u001b[1;36m, line \u001b[1;32m2\u001b[0m\n\u001b[1;33m    accuracy.append(float(tanhRMSprop[i][84:90]))\u001b[0m\n\u001b[1;37m    ^\u001b[0m\n\u001b[1;31mIndentationError\u001b[0m\u001b[1;31m:\u001b[0m unexpected indent\n"
     ]
    }
   ],
   "source": [
    "loss.append(float(tanhRMSprop[i][65:71]))\n",
    "    accuracy.append(float(tanhRMSprop[i][84:90]))"
   ]
  },
  {
   "cell_type": "code",
   "execution_count": 74,
   "metadata": {},
   "outputs": [
    {
     "data": {
      "image/png": "[encoded data removed]",
      "text/plain": [
       "<Figure size 432x288 with 1 Axes>"
      ]
     },
     "metadata": {
      "needs_background": "light"
     },
     "output_type": "display_data"
    }
   ],
   "source": [
    "# plot lines - Both the validation loss and testing loss are diverging and approaching 0. \n",
    "plt.title(\"Overfitting fitting\")\n",
    "plt.plot(val_loss_RMS, label = \"validation loss\")\n",
    "plt.plot(loss_RMS, label = \"training loss\")\n",
    "plt.xlabel('epochs')\n",
    "plt.ylabel('error')\n",
    "plt.legend()\n",
    "plt.show() #run 9 times"
   ]
  },
  {
   "cell_type": "code",
   "execution_count": null,
   "metadata": {},
   "outputs": [],
   "source": []
  },
  {
   "cell_type": "code",
   "execution_count": 75,
   "metadata": {},
   "outputs": [
    {
     "data": {
      "image/png": "[encoded data removed]",
      "text/plain": [
       "<Figure size 432x288 with 1 Axes>"
      ]
     },
     "metadata": {
      "needs_background": "light"
     },
     "output_type": "display_data"
    },
    {
     "data": {
      "text/plain": [
       "<Figure size 432x288 with 0 Axes>"
      ]
     },
     "metadata": {},
     "output_type": "display_data"
    }
   ],
   "source": [
    "plt.title(\"Overfitting fitting\")\n",
    "plt.plot(val_loss_Adam, label = \"validation loss\")\n",
    "plt.plot(loss_Adam, label = \"training loss\")\n",
    "plt.xlabel('epochs')\n",
    "plt.ylabel('error')\n",
    "plt.legend()\n",
    "plt.show()\n",
    "plt.savefig('test.png', bbox_inches='tight') #re run 8 times"
   ]
  },
  {
   "cell_type": "code",
   "execution_count": null,
   "metadata": {},
   "outputs": [],
   "source": []
  }
 ],
 "metadata": {
  "kernelspec": {
   "display_name": "Python 3",
   "language": "python",
   "name": "python3"
  },
  "language_info": {
   "codemirror_mode": {
    "name": "ipython",
    "version": 3
   },
   "file_extension": ".py",
   "mimetype": "text/x-python",
   "name": "python",
   "nbconvert_exporter": "python",
   "pygments_lexer": "ipython3",
   "version": "3.8.5"
  }
 },
 "nbformat": 4,
 "nbformat_minor": 4
}
